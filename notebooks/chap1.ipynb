{
 "cells": [
  {
   "cell_type": "code",
   "execution_count": 2,
   "metadata": {},
   "outputs": [
    {
     "data": {
      "text/plain": [
       "'desserts'"
      ]
     },
     "execution_count": 2,
     "metadata": {},
     "output_type": "execute_result"
    }
   ],
   "source": [
    "str = \"stressed\"\n",
    "ans = str[::-1]\n",
    "ans"
   ]
  },
  {
   "cell_type": "code",
   "execution_count": null,
   "outputs": [],
   "source": [
    "str = \"パタトクカシーー\"\n",
    "ans = str[::2]\n",
    "ans"
   ],
   "metadata": {
    "collapsed": false,
    "pycharm": {
     "name": "#%%\n"
    }
   }
  },
  {
   "cell_type": "code",
   "execution_count": null,
   "outputs": [],
   "source": [
    "str1 = \"パトカー\"\n",
    "str2 = \"タクシー\"\n",
    "ans = \" \".join([i + j for i, j in zip(str1, str2)])\n",
    "ans"
   ],
   "metadata": {
    "collapsed": false,
    "pycharm": {
     "name": "#%%\n"
    }
   }
  },
  {
   "cell_type": "code",
   "execution_count": null,
   "outputs": [],
   "source": [
    "import re\n",
    "\n",
    "str = \"Now I need a drink, alcoholic of course, after the heavy lectures involving quantum mechanics.\"\n",
    "str = re.sub(\"[,\\.]\", \"\", str)\n",
    "splits = str.split()\n",
    "ans = [len(i) for i in splits]\n",
    "ans"
   ],
   "metadata": {
    "collapsed": false,
    "pycharm": {
     "name": "#%%\n"
    }
   }
  },
  {
   "cell_type": "code",
   "execution_count": null,
   "outputs": [],
   "source": [
    "str = \"Hi He Lied Because Boron Could Not Oxidize Fluorine. New Nations Might Also Sign Peace Security Clause. Arthur King Can.\"\n",
    "splits = str.split()\n",
    "one_ch = [1, 5, 6, 7, 8, 9, 15, 16, 19]\n",
    "ans = {}\n",
    "\n",
    "for i, word in enumerate(splits):\n",
    "    if i+1 in one_ch:\n",
    "        ans[word[:1]] = i+1\n",
    "    else:\n",
    "        ans[word[:2]] = i+1\n",
    "ans"
   ],
   "metadata": {
    "collapsed": false,
    "pycharm": {
     "name": "#%%\n"
    }
   }
  },
  {
   "cell_type": "code",
   "execution_count": null,
   "outputs": [],
   "source": [
    "L = [1, 3, 5]\n",
    "print(L)\n",
    "print(*L)"
   ],
   "metadata": {
    "collapsed": false,
    "pycharm": {
     "name": "#%%\n"
    }
   }
  },
  {
   "cell_type": "code",
   "execution_count": null,
   "outputs": [],
   "source": [
    "def ngram(n, lst):\n",
    "    return list(zip(*[lst[i:] for i in range(n)]))\n",
    "\n",
    "str = 'I am an NLPer'\n",
    "#str.split()\n",
    "words_bi_gram = ngram(2, str.split())\n",
    "chars_bi_gram = ngram(2, str)\n",
    "\n",
    "print('単語bi-gram:', words_bi_gram)\n",
    "print('文字bi-gram:', chars_bi_gram)"
   ],
   "metadata": {
    "collapsed": false,
    "pycharm": {
     "name": "#%%\n"
    }
   }
  },
  {
   "cell_type": "code",
   "execution_count": null,
   "outputs": [],
   "source": [
    "str = 'I am an NLPer'\n",
    "[str[i:] for i in range(2)]"
   ],
   "metadata": {
    "collapsed": false,
    "pycharm": {
     "name": "#%%\n"
    }
   }
  },
  {
   "cell_type": "code",
   "execution_count": null,
   "outputs": [],
   "source": [
    "str1 = 'paraparaparadise'\n",
    "str2 = 'paragraph'\n",
    "X = set(ngram(2, str1))\n",
    "Y = set(ngram(2, str2))\n",
    "union = X | Y\n",
    "intersection = X & Y\n",
    "difference = X - Y\n",
    "\n",
    "print('X:', X)\n",
    "print('Y:', Y)\n",
    "print('和集合:', union)\n",
    "print('積集合:', intersection)\n",
    "print('差集合:', difference)\n",
    "print('Xにseが含まれるか:', {('s', 'e')} <= X)\n",
    "print('Yにseが含まれるか:', {('s', 'e')} <= Y)"
   ],
   "metadata": {
    "collapsed": false,
    "pycharm": {
     "name": "#%%\n"
    }
   }
  },
  {
   "cell_type": "code",
   "execution_count": null,
   "outputs": [],
   "source": [],
   "metadata": {
    "collapsed": false,
    "pycharm": {
     "name": "#%%\n"
    }
   }
  },
  {
   "cell_type": "code",
   "execution_count": null,
   "outputs": [],
   "source": [],
   "metadata": {
    "collapsed": false,
    "pycharm": {
     "name": "#%%\n"
    }
   }
  },
  {
   "cell_type": "code",
   "execution_count": null,
   "outputs": [],
   "source": [],
   "metadata": {
    "collapsed": false,
    "pycharm": {
     "name": "#%%\n"
    }
   }
  },
  {
   "cell_type": "code",
   "execution_count": null,
   "outputs": [],
   "source": [],
   "metadata": {
    "collapsed": false,
    "pycharm": {
     "name": "#%%\n"
    }
   }
  },
  {
   "cell_type": "code",
   "execution_count": 3,
   "metadata": {
    "pycharm": {
     "name": "#%%\n"
    }
   },
   "outputs": [
    {
     "data": {
      "text/plain": [
       "'パトカー'"
      ]
     },
     "execution_count": 3,
     "metadata": {},
     "output_type": "execute_result"
    }
   ],
   "source": []
  },
  {
   "cell_type": "code",
   "execution_count": 5,
   "metadata": {},
   "outputs": [
    {
     "data": {
      "text/plain": [
       "'パタ トク カシ ーー'"
      ]
     },
     "execution_count": 5,
     "metadata": {},
     "output_type": "execute_result"
    }
   ],
   "source": [
    "str1 = \"パトカー\"\n",
    "str2 = \"タクシー\"\n",
    "ans = \" \".join([i + j for i, j in zip(str1, str2)])\n",
    "ans"
   ]
  },
  {
   "cell_type": "code",
   "execution_count": 9,
   "metadata": {},
   "outputs": [
    {
     "data": {
      "text/plain": [
       "[3, 1, 4, 1, 5, 9, 2, 6, 5, 3, 5, 8, 9, 7, 9]"
      ]
     },
     "execution_count": 9,
     "metadata": {},
     "output_type": "execute_result"
    }
   ],
   "source": [
    "import re\n",
    "\n",
    "str = \"Now I need a drink, alcoholic of course, after the heavy lectures involving quantum mechanics.\"\n",
    "str = re.sub(\"[,\\.]\", \"\", str)\n",
    "splits = str.split()\n",
    "ans = [len(i) for i in splits]\n",
    "ans"
   ]
  },
  {
   "cell_type": "code",
   "execution_count": 12,
   "metadata": {},
   "outputs": [
    {
     "data": {
      "text/plain": [
       "{'H': 1,\n",
       " 'He': 2,\n",
       " 'Li': 3,\n",
       " 'Be': 4,\n",
       " 'B': 5,\n",
       " 'C': 6,\n",
       " 'N': 7,\n",
       " 'O': 8,\n",
       " 'F': 9,\n",
       " 'Ne': 10,\n",
       " 'Na': 11,\n",
       " 'Mi': 12,\n",
       " 'Al': 13,\n",
       " 'Si': 14,\n",
       " 'P': 15,\n",
       " 'S': 16,\n",
       " 'Cl': 17,\n",
       " 'Ar': 18,\n",
       " 'K': 19,\n",
       " 'Ca': 20}"
      ]
     },
     "execution_count": 12,
     "metadata": {},
     "output_type": "execute_result"
    }
   ],
   "source": [
    "str = \"Hi He Lied Because Boron Could Not Oxidize Fluorine. New Nations Might Also Sign Peace Security Clause. Arthur King Can.\"\n",
    "splits = str.split()\n",
    "one_ch = [1, 5, 6, 7, 8, 9, 15, 16, 19]\n",
    "ans = {}\n",
    "\n",
    "for i, word in enumerate(splits):\n",
    "    if i+1 in one_ch:\n",
    "        ans[word[:1]] = i+1\n",
    "    else:\n",
    "        ans[word[:2]] = i+1\n",
    "ans"
   ]
  },
  {
   "cell_type": "code",
   "execution_count": 19,
   "metadata": {},
   "outputs": [
    {
     "name": "stdout",
     "output_type": "stream",
     "text": [
      "[1, 3, 5]\n",
      "1 3 5\n"
     ]
    }
   ],
   "source": [
    "L = [1, 3, 5]\n",
    "print(L)\n",
    "print(*L)"
   ]
  },
  {
   "cell_type": "code",
   "execution_count": 22,
   "metadata": {},
   "outputs": [
    {
     "name": "stdout",
     "output_type": "stream",
     "text": [
      "単語bi-gram: [('I', 'am'), ('am', 'an'), ('an', 'NLPer')]\n",
      "文字bi-gram: [('I', ' '), (' ', 'a'), ('a', 'm'), ('m', ' '), (' ', 'a'), ('a', 'n'), ('n', ' '), (' ', 'N'), ('N', 'L'), ('L', 'P'), ('P', 'e'), ('e', 'r')]\n"
     ]
    }
   ],
   "source": [
    "def ngram(n, lst):\n",
    "    return list(zip(*[lst[i:] for i in range(n)]))\n",
    "\n",
    "str = 'I am an NLPer'\n",
    "#str.split()\n",
    "words_bi_gram = ngram(2, str.split())\n",
    "chars_bi_gram = ngram(2, str)\n",
    "\n",
    "print('単語bi-gram:', words_bi_gram)\n",
    "print('文字bi-gram:', chars_bi_gram)"
   ]
  },
  {
   "cell_type": "code",
   "execution_count": 20,
   "metadata": {},
   "outputs": [
    {
     "data": {
      "text/plain": [
       "['I am an NLPer', ' am an NLPer']"
      ]
     },
     "execution_count": 20,
     "metadata": {},
     "output_type": "execute_result"
    }
   ],
   "source": [
    "str = 'I am an NLPer'\n",
    "[str[i:] for i in range(2)]"
   ]
  },
  {
   "cell_type": "code",
   "execution_count": 23,
   "metadata": {},
   "outputs": [
    {
     "name": "stdout",
     "output_type": "stream",
     "text": [
      "X: {('d', 'i'), ('a', 'p'), ('r', 'a'), ('a', 'd'), ('i', 's'), ('a', 'r'), ('s', 'e'), ('p', 'a')}\n",
      "Y: {('a', 'p'), ('r', 'a'), ('g', 'r'), ('a', 'r'), ('p', 'h'), ('p', 'a'), ('a', 'g')}\n",
      "和集合: {('d', 'i'), ('a', 'p'), ('r', 'a'), ('a', 'd'), ('i', 's'), ('g', 'r'), ('a', 'r'), ('p', 'h'), ('s', 'e'), ('p', 'a'), ('a', 'g')}\n",
      "積集合: {('a', 'r'), ('r', 'a'), ('p', 'a'), ('a', 'p')}\n",
      "差集合: {('d', 'i'), ('i', 's'), ('a', 'd'), ('s', 'e')}\n",
      "Xにseが含まれるか: True\n",
      "Yにseが含まれるか: False\n"
     ]
    }
   ],
   "source": [
    "str1 = 'paraparaparadise'\n",
    "str2 = 'paragraph'\n",
    "X = set(ngram(2, str1))\n",
    "Y = set(ngram(2, str2))\n",
    "union = X | Y\n",
    "intersection = X & Y\n",
    "difference = X - Y\n",
    "\n",
    "print('X:', X)\n",
    "print('Y:', Y)\n",
    "print('和集合:', union)\n",
    "print('積集合:', intersection)\n",
    "print('差集合:', difference)\n",
    "print('Xにseが含まれるか:', {('s', 'e')} <= X)\n",
    "print('Yにseが含まれるか:', {('s', 'e')} <= Y)"
   ]
  },
  {
   "cell_type": "code",
   "execution_count": null,
   "metadata": {},
   "outputs": [],
   "source": []
  },
  {
   "cell_type": "code",
   "execution_count": null,
   "metadata": {},
   "outputs": [],
   "source": []
  },
  {
   "cell_type": "code",
   "execution_count": null,
   "metadata": {},
   "outputs": [],
   "source": []
  },
  {
   "cell_type": "code",
   "execution_count": null,
   "metadata": {},
   "outputs": [],
   "source": []
  },
  {
   "cell_type": "code",
   "execution_count": null,
   "metadata": {},
   "outputs": [],
   "source": []
  }
 ],
 "metadata": {
  "kernelspec": {
   "display_name": "Python 3",
   "language": "python",
   "name": "python3"
  },
  "language_info": {
   "codemirror_mode": {
    "name": "ipython",
    "version": 3
   },
   "file_extension": ".py",
   "mimetype": "text/x-python",
   "name": "python",
   "nbconvert_exporter": "python",
   "pygments_lexer": "ipython3",
   "version": "3.8.3"
  }
 },
 "nbformat": 4,
 "nbformat_minor": 1
}